{
 "cells": [
  {
   "cell_type": "code",
   "execution_count": 1,
   "id": "0e067eee",
   "metadata": {},
   "outputs": [
    {
     "name": "stdout",
     "output_type": "stream",
     "text": [
      "망아지\n",
      "-------------------------\n",
      "입력된 문자열:  망아지\n",
      "입력된 문자열:  지아망 \n",
      " -------------------------\n",
      "회문아님\n"
     ]
    }
   ],
   "source": [
    "def isPalindrome(string):\n",
    "    print(\"-\"*25)\n",
    "    print(\"입력된 문자열: \", string)\n",
    "    \n",
    "    test = string[::-1]\n",
    "    print(\"입력된 문자열: \", test, \"\\n\", \"-\"*25)\n",
    "    if string == test:\n",
    "        print(\"회문임\")\n",
    "    else:\n",
    "        print(\"회문아님\")\n",
    "        \n",
    "string = input()\n",
    "isPalindrome(string)"
   ]
  },
  {
   "cell_type": "code",
   "execution_count": null,
   "id": "310f18ff",
   "metadata": {},
   "outputs": [],
   "source": []
  }
 ],
 "metadata": {
  "kernelspec": {
   "display_name": "Python 3 (ipykernel)",
   "language": "python",
   "name": "python3"
  },
  "language_info": {
   "codemirror_mode": {
    "name": "ipython",
    "version": 3
   },
   "file_extension": ".py",
   "mimetype": "text/x-python",
   "name": "python",
   "nbconvert_exporter": "python",
   "pygments_lexer": "ipython3",
   "version": "3.9.7"
  }
 },
 "nbformat": 4,
 "nbformat_minor": 5
}
