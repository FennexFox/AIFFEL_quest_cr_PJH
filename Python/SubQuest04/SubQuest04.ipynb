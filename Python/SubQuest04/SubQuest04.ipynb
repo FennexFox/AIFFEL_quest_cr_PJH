"""
계산기 프로그램
1. 사용자로 부터 두 개의 정수, 연산자를 입력받아야한다.
- input 함수

2. 에러처리
2.1. 정수가 입력 될때까지 잘못된 입력 + 다시 입력 받기를 시도
- 정수가 아닌 경우에 input 함수 재실행.

2.2. 나눗셈 연산 시도 시 0으로 나눌 경우 ZeroDivisionError 오류
2.3. 연산자를 입력했을 때, 지원하지 않는 경우 오류 메시지

3. 참고
제곱 연산은 math 모듈 사용
계산 결과를 출력한 후에 계속 계산할 것인지 Y/N 형태로 입력 받기.
"""

import math

"""
OperatorError Class
- Except 클래스를 상속받는 클래스.
- 지원하지 않는 연산자에 대한 예외 처리를 위해 사용됩니다.
"""
class OperatorError(Exception):
    pass

def calculator():
    while True:
        first_num = input("첫 번째 정수를 입력해 주세요: ")
        second_num = input("두 번째 정수를 입력해 주세요: ")
        operator_input = input("연산자를 입력해 주세요: ")

        try:
            if first_num.isdigit() == False or second_num.isdigit() == False:
                raise(ValueError)
            if operator_input == "/" and second_num == "0":
                raise(ZeroDivisionError)
            if operator_input not in ["+", "-", "*", "/", "**"]:
                raise(OperatorError)
        except ValueError:
            print("입력된 값은 정수가 아닙니다.")
        except OperatorError:
            print("지원하지 않는 연산자입니다.")
        except ZeroDivisionError:
            print("ZeroDivisionError입니다.")
        else:
            # 입력받은 정수에 대한 계산식
            first_num = int(first_num)
            second_num = int(second_num)
            operator_dict = {"+": lambda x, y: x + y, "-": lambda x, y: x - y, "*": lambda x, y: x * y, "/": lambda x, y: x / y, "**": lambda x, y: math.pow(x, y)}
            operator = operator_dict[operator_input]
            res = operator(first_num, second_num)
            print(f'계산 결과: {res}')

            # n을 제외한 모든 입력에 대해 계속 계산하는 방식으로 구현
            answer = input("계속 계산하시겠습니까? [Y/N]: ")
            if answer.lower() == 'y' or answer.lower() != 'n':
                continue
            elif answer.lower() == 'n':
                break

if __name__ == "__main__":
   calculator()
