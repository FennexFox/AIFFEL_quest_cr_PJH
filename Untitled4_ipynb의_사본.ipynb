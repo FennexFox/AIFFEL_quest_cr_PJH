{
  "nbformat": 4,
  "nbformat_minor": 0,
  "metadata": {
    "colab": {
      "provenance": [],
      "authorship_tag": "ABX9TyOoVE83l/0i0WpRT4zX3nG+",
      "include_colab_link": true
    },
    "kernelspec": {
      "name": "python3",
      "display_name": "Python 3"
    },
    "language_info": {
      "name": "python"
    }
  },
  "cells": [
    {
      "cell_type": "markdown",
      "metadata": {
        "id": "view-in-github",
        "colab_type": "text"
      },
      "source": [
        "<a href=\"https://colab.research.google.com/github/emily-park-0902/AIFFEL_quest_cr/blob/main/Untitled4_ipynb%EC%9D%98_%EC%82%AC%EB%B3%B8.ipynb\" target=\"_parent\"><img src=\"https://colab.research.google.com/assets/colab-badge.svg\" alt=\"Open In Colab\"/></a>"
      ]
    },
    {
      "cell_type": "code",
      "execution_count": null,
      "metadata": {
        "colab": {
          "base_uri": "https://localhost:8080/"
        },
        "id": "Ejk3HXM-nIth",
        "outputId": "19ffdf9f-7797-4da3-c2c2-926b18bd8811"
      },
      "outputs": [
        {
          "output_type": "stream",
          "name": "stdout",
          "text": [
            "첫 번째 정수를 입력해 주세요: 1\n",
            "두 번째 정수를 입력해 주세요: 3\n",
            "연산자를 입력해 주세요: +\n",
            "계산 결과: 4\n"
          ]
        }
      ],
      "source": [
        "\"\"\"\n",
        "계산기 프로그램\n",
        "1. 사용자로 부터 두 개의 정수, 연산자를 입력받아야한다.\n",
        "- input 함수\n",
        "\n",
        "2. 에러처리\n",
        "2.1. 정수가 입력 될때까지 잘못된 입력 + 다시 입력 받기를 시도\n",
        "- 정수가 아닌 경우에 input 함수 재실행.\n",
        "\n",
        "2.2. 나눗셈 연산 시도 시 0으로 나눌 경우 ZeroDivisionError 오류\n",
        "2.3. 연산자를 입력했을 때, 지원하지 않는 경우 오류 메시지\n",
        "\n",
        "3. 참고\n",
        "제곱 연산은 math 모듈 사용\n",
        "계산 결과를 출력한 후에 계속 계산할 것인지 Y/N 형태로 입력 받기.\n",
        "\"\"\"\n",
        "\n",
        "import math\n",
        "\n",
        "\"\"\"\n",
        "OperatorError Class\n",
        "- Except 클래스를 상속받는 클래스.\n",
        "- 지원하지 않는 연산자에 대한 예외 처리를 위해 사용됩니다.\n",
        "\"\"\"\n",
        "\n",
        "\n",
        "\n",
        "def calculator():\n",
        "    while True:\n",
        "        first_num = input(\"첫 번째 정수를 입력해 주세요: \")\n",
        "        second_num = input(\"두 번째 정수를 입력해 주세요: \")\n",
        "        operator_input = input(\"연산자를 입력해 주세요: \")\n",
        "\n",
        "        try:\n",
        "            if first_num.isdigit() == False or second_num.isdigit() == False:\n",
        "                raise(ValueError)\n",
        "            if operator_input == \"/\" and second_num == \"0\":\n",
        "                raise(ZeroDivisionError)\n",
        "            if operator_input not in [\"+\", \"-\", \"*\", \"/\", \"**\"]:\n",
        "                raise(Exception)\n",
        "        except ValueError:\n",
        "            print(\"입력된 값은 정수가 아닙니다.\")\n",
        "        except OperatorError:\n",
        "            print(\"지원하지 않는 연산자입니다.\")\n",
        "        except ZeroDivisionError:\n",
        "            print(\"ZeroDivisionError입니다.\")\n",
        "        else:\n",
        "            # 입력받은 정수에 대한 계산식\n",
        "            first_num = int(first_num)\n",
        "            second_num = int(second_num)\n",
        "            operator_dict = {\"+\": lambda x, y: x + y, \"-\": lambda x, y: x - y, \"*\": lambda x, y: x * y, \"/\": lambda x, y: x / y, \"**\": lambda x, y: math.pow(x, y)}\n",
        "            operator = operator_dict[operator_input]\n",
        "            res = operator(first_num, second_num)\n",
        "            print(f'계산 결과: {res}')\n",
        "\n",
        "            # n을 제외한 모든 입력에 대해 계속 계산하는 방식으로 구현\n",
        "            answer = input(\"계속 계산하시겠습니까? [Y/N]: \")\n",
        "            if answer.lower() == 'y' or answer.lower() != 'n':\n",
        "                continue\n",
        "            elif answer.lower() == 'n':\n",
        "                break\n",
        "\n",
        "if __name__ == \"__main__\":\n",
        "   calculator()"
      ]
    }
  ]
}